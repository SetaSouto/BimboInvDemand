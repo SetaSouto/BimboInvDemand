{
 "cells": [
  {
   "cell_type": "markdown",
   "metadata": {},
   "source": [
    "# Grupo Bimbo Inventory Demand"
   ]
  },
  {
   "cell_type": "markdown",
   "metadata": {},
   "source": [
    "Notebook con la implementación del modelo para [esta](https://www.kaggle.com/c/grupo-bimbo-inventory-demand) competencia en kaggle.\n"
   ]
  },
  {
   "cell_type": "markdown",
   "metadata": {},
   "source": [
    "### Ideas principales\n",
    "\n",
    "* Ocupar redes neuronales con la librería tensorflow.\n",
    "* Ocupar procesos guassianos con librería por seleccionar."
   ]
  },
  {
   "cell_type": "markdown",
   "metadata": {},
   "source": [
    "### Archivos\n",
    "\n",
    "* train.csv — the training set\n",
    "* test.csv — the test set\n",
    "* sample_submission.csv — a sample submission file in the correct format\n",
    "* cliente_tabla.csv — client names (can be joined with train/test on Cliente_ID)\n",
    "* producto_tabla.csv — product names (can be joined with train/test on Producto_ID)\n",
    "* town_state.csv — town and state (can be joined with train/test on Agencia_ID)\n"
   ]
  },
  {
   "cell_type": "markdown",
   "metadata": {},
   "source": [
    "### Features\n",
    "\n",
    "* Semana — Week number (From Thursday to Wednesday)\n",
    "* Agencia_ID — Sales Depot ID\n",
    "* Canal_ID — Sales Channel ID\n",
    "* Ruta_SAK — Route ID (Several routes = Sales Depot)\n",
    "* Cliente_ID — Client ID\n",
    "* NombreCliente — Client name\n",
    "* Producto_ID — Product ID\n",
    "* NombreProducto — Product Name\n",
    "* Venta_uni_hoy — Sales unit this week (integer)\n",
    "* Venta_hoy — Sales this week (unit: pesos)\n",
    "* Dev_uni_proxima — Returns unit next week (integer)\n",
    "* Dev_proxima — Returns next week (unit: pesos)\n",
    "* Demanda_uni_equil — Adjusted Demand (integer) (This is the target you will predict)"
   ]
  },
  {
   "cell_type": "markdown",
   "metadata": {},
   "source": [
    "# Análisis de los datos"
   ]
  },
  {
   "cell_type": "markdown",
   "metadata": {},
   "source": [
    "Primero importamos las librerías necesarias"
   ]
  },
  {
   "cell_type": "code",
   "execution_count": 1,
   "metadata": {
    "collapsed": true
   },
   "outputs": [],
   "source": [
    "%matplotlib inline\n",
    "import numpy as np\n",
    "import tensorflow as tf\n",
    "import csv\n",
    "import matplotlib.pyplot as plt\n",
    "import time\n",
    "import pandas as pd"
   ]
  },
  {
   "cell_type": "markdown",
   "metadata": {},
   "source": [
    "Generamos una función para leer los datos. Retorna un dataFrame (pandas) de los datos."
   ]
  },
  {
   "cell_type": "code",
   "execution_count": 2,
   "metadata": {
    "collapsed": false
   },
   "outputs": [],
   "source": [
    "# fileName: Name of the csv file.\n",
    "# Columns: Array with the strings of each column in order.\n",
    "# rows: Number of rows to be read. None = All.\n",
    "def readData(fileName, columns, rows=None):\n",
    "    print('Reading file:', fileName)\n",
    "    start = time.time()\n",
    "    ret = pd.read_csv(fileName, usecols=columns, nrows=rows)\n",
    "    finish = time.time()\n",
    "    print('Shape:', str(ret.shape))\n",
    "    print('Execution time (seconds):', str(finish-start))\n",
    "    return ret"
   ]
  },
  {
   "cell_type": "markdown",
   "metadata": {},
   "source": [
    "**NOTA:** Importar una columna completa del archivo train demora aproximadamente 1 minuto."
   ]
  },
  {
   "cell_type": "code",
   "execution_count": 3,
   "metadata": {
    "collapsed": false
   },
   "outputs": [
    {
     "name": "stdout",
     "output_type": "stream",
     "text": [
      "Reading file: Archivos/train.csv\n",
      "Shape: (2000000, 7)\n",
      "Execution time (seconds): 1.4059972763061523\n"
     ]
    }
   ],
   "source": [
    "# How many rows we'll load\n",
    "total_loaded = 2000000\n",
    "\n",
    "# Import the dataset\n",
    "columns = ['Semana', 'Agencia_ID', 'Canal_ID', 'Ruta_SAK', 'Cliente_ID', 'Producto_ID', 'Demanda_uni_equil']\n",
    "dataset = readData('Archivos/train.csv', columns, rows=total_loaded)"
   ]
  },
  {
   "cell_type": "markdown",
   "metadata": {
    "collapsed": false
   },
   "source": [
    "Inspeccionemos los datos primero antes de generar cualquier modelo.  \n",
    "Nuestro valor objetivo es la última columna de nuestros datos: *Demanda_uni_equil*, veamos como se distribuye sobre los datos que hemos tomado."
   ]
  },
  {
   "cell_type": "code",
   "execution_count": 4,
   "metadata": {
    "collapsed": true
   },
   "outputs": [],
   "source": [
    "# Recieves an array of elements and plot its histogram\n",
    "# array: Values\n",
    "# maxValue: Max value to be shown in the histogram\n",
    "def toHist(array, maxValue, title='', xlabel=''):\n",
    "    plt.title(title)\n",
    "    plt.xlabel(xlabel)\n",
    "    plt.ylabel('Frequency')\n",
    "    plt.hist(array[array<maxValue], bins=200, color='blue')\n",
    "    plt.show()"
   ]
  },
  {
   "cell_type": "code",
   "execution_count": 5,
   "metadata": {
    "collapsed": true
   },
   "outputs": [],
   "source": [
    "# Recieves a dataset, counts how many different values has and maps that values from\n",
    "# 0 to MAX, where MAX is the amount of different values.\n",
    "# Returns a dataset with the values mapped.\n",
    "def mapValues(dataset):\n",
    "    values_list = dataset.drop_duplicates().tolist()\n",
    "    print('Different Values:', len(values_list))\n",
    "    print(' ')\n",
    "    \n",
    "    # Our map function:\n",
    "    map = lambda x: values_list.index(x)\n",
    "    \n",
    "    print('Doing map ...')\n",
    "    start = time.time()\n",
    "    aux = dataset.map(map)\n",
    "    finish = time.time()\n",
    "    print('Execution time:', (finish-start))\n",
    "    print(' ')\n",
    "    print(aux.describe())\n",
    "    return aux"
   ]
  },
  {
   "cell_type": "code",
   "execution_count": 6,
   "metadata": {
    "collapsed": true
   },
   "outputs": [],
   "source": [
    "# Normalize a dataset in a naive way. Every value is its value less the mean divided\n",
    "# the by the (max value/2).\n",
    "# Returns a numpy array with the data normalized.\n",
    "def normalize(dataset):\n",
    "    aux = dataset.as_matrix().astype('float64')\n",
    "    max = aux.max()\n",
    "    mean = aux.mean()\n",
    "    # Center in zero:\n",
    "    aux = (aux - mean) / (max/2)\n",
    "    print('Mean:', aux.mean())\n",
    "    print('Max:', aux.max())\n",
    "    print('Min:', aux.min())\n",
    "    print('Std:', aux.std())\n",
    "    print('Different values:', np.unique(aux).shape[0])\n",
    "    return aux"
   ]
  },
  {
   "cell_type": "markdown",
   "metadata": {},
   "source": [
    "### Demanda_uni_equil"
   ]
  },
  {
   "cell_type": "code",
   "execution_count": 7,
   "metadata": {
    "collapsed": false
   },
   "outputs": [
    {
     "data": {
      "image/png": "[encoded data removed]",
      "text/plain": [
       "<matplotlib.figure.Figure at 0x7f488f024eb8>"
      ]
     },
     "metadata": {},
     "output_type": "display_data"
    }
   ],
   "source": [
    "demanda_uni_equil = dataset['Demanda_uni_equil']\n",
    "toHist(demanda_uni_equil, 50, 'Histogram of Demanda_uni_equil', 'Demanda_uni_equil')"
   ]
  },
  {
   "cell_type": "markdown",
   "metadata": {},
   "source": [
    "### Histograma por semana"
   ]
  },
  {
   "cell_type": "code",
   "execution_count": 8,
   "metadata": {
    "collapsed": false
   },
   "outputs": [
    {
     "data": {
      "image/png": "[encoded data removed]",
      "text/plain": [
       "<matplotlib.figure.Figure at 0x7f4888c7d940>"
      ]
     },
     "metadata": {},
     "output_type": "display_data"
    }
   ],
   "source": [
    "semana = dataset['Semana']\n",
    "toHist(semana, 10, 'Histogram of Semana', 'Semana')"
   ]
  },
  {
   "cell_type": "markdown",
   "metadata": {},
   "source": [
    "### 'Agencia_ID'"
   ]
  },
  {
   "cell_type": "code",
   "execution_count": 9,
   "metadata": {
    "collapsed": false
   },
   "outputs": [
    {
     "data": {
      "image/png": "[encoded data removed]",
      "text/plain": [
       "<matplotlib.figure.Figure at 0x7f4888c0ccc0>"
      ]
     },
     "metadata": {},
     "output_type": "display_data"
    },
    {
     "name": "stdout",
     "output_type": "stream",
     "text": [
      "count    2.000000e+06\n",
      "mean     1.152392e+03\n",
      "std      4.198351e+01\n",
      "min      1.110000e+03\n",
      "25%      1.120000e+03\n",
      "50%      1.130000e+03\n",
      "75%      1.212000e+03\n",
      "max      1.222000e+03\n",
      "Name: Agencia_ID, dtype: float64\n"
     ]
    }
   ],
   "source": [
    "agencia_id = dataset['Agencia_ID']\n",
    "toHist(agencia_id, 9999999, 'Histogram of Agencia_ID', 'Agencia_id')\n",
    "dscrb = agencia_id.describe()\n",
    "print(dscrb)"
   ]
  },
  {
   "cell_type": "markdown",
   "metadata": {},
   "source": [
    "En este caso tenemos que las id de las agencias van desde 1110 hasta 1130 (usando el primer millón de ejemplos), estos valores son muy grandes y se podrían poner entorno a cero y entre -1 y 1."
   ]
  },
  {
   "cell_type": "code",
   "execution_count": 10,
   "metadata": {
    "collapsed": false
   },
   "outputs": [
    {
     "name": "stdout",
     "output_type": "stream",
     "text": [
      "Different Values: 55\n",
      " \n",
      "Doing map ...\n",
      "Execution time: 7.848248481750488\n",
      " \n",
      "count    2.000000e+06\n",
      "mean     2.328191e+01\n",
      "std      1.773843e+01\n",
      "min      0.000000e+00\n",
      "25%      9.000000e+00\n",
      "50%      1.700000e+01\n",
      "75%      4.500000e+01\n",
      "max      5.400000e+01\n",
      "Name: Agencia_ID, dtype: float64\n"
     ]
    }
   ],
   "source": [
    "aux_agencia = mapValues(agencia_id)"
   ]
  },
  {
   "cell_type": "code",
   "execution_count": 11,
   "metadata": {
    "collapsed": false,
    "scrolled": true
   },
   "outputs": [
    {
     "name": "stdout",
     "output_type": "stream",
     "text": [
      "Mean: -2.81488610199e-16\n",
      "Max: 1.13770718519\n",
      "Min: -0.862292814815\n",
      "Std: 0.656978778376\n",
      "Different values: 55\n"
     ]
    },
    {
     "data": {
      "image/png": "[encoded data removed]",
      "text/plain": [
       "<matplotlib.figure.Figure at 0x7f48888be860>"
      ]
     },
     "metadata": {},
     "output_type": "display_data"
    }
   ],
   "source": [
    "npagencia_id = normalize(aux_agencia)\n",
    "toHist(npagencia_id, 2, 'Histogram of Agencia_ID normalized', 'Agencia_ID normalized')"
   ]
  },
  {
   "cell_type": "markdown",
   "metadata": {},
   "source": [
    "### Histograma para 'Canal_ID'"
   ]
  },
  {
   "cell_type": "code",
   "execution_count": 12,
   "metadata": {
    "collapsed": false
   },
   "outputs": [
    {
     "data": {
      "image/png": "[encoded data removed]",
      "text/plain": [
       "<matplotlib.figure.Figure at 0x7f4888a360b8>"
      ]
     },
     "metadata": {},
     "output_type": "display_data"
    },
    {
     "name": "stdout",
     "output_type": "stream",
     "text": [
      "count    2.000000e+06\n",
      "mean     1.218995e+00\n",
      "std      9.673577e-01\n",
      "min      1.000000e+00\n",
      "25%      1.000000e+00\n",
      "50%      1.000000e+00\n",
      "75%      1.000000e+00\n",
      "max      1.100000e+01\n",
      "Name: Canal_ID, dtype: float64\n"
     ]
    }
   ],
   "source": [
    "canal_id = dataset['Canal_ID']\n",
    "toHist(canal_id, 20, 'Histograma de Canal_ID', 'Canal_ID')\n",
    "dscrb = canal_id.describe()\n",
    "print(dscrb)"
   ]
  },
  {
   "cell_type": "code",
   "execution_count": 13,
   "metadata": {
    "collapsed": false
   },
   "outputs": [
    {
     "name": "stdout",
     "output_type": "stream",
     "text": [
      "Different Values: 8\n",
      " \n",
      "Doing map ...\n",
      "Execution time: 2.5701098442077637\n",
      " \n",
      "count    2.000000e+06\n",
      "mean     3.033285e+00\n",
      "std      5.004740e-01\n",
      "min      0.000000e+00\n",
      "25%      3.000000e+00\n",
      "50%      3.000000e+00\n",
      "75%      3.000000e+00\n",
      "max      7.000000e+00\n",
      "Name: Canal_ID, dtype: float64\n"
     ]
    }
   ],
   "source": [
    "aux_canal = mapValues(canal_id)"
   ]
  },
  {
   "cell_type": "code",
   "execution_count": 14,
   "metadata": {
    "collapsed": false
   },
   "outputs": [
    {
     "name": "stdout",
     "output_type": "stream",
     "text": [
      "Mean: 8.44808667466e-17\n",
      "Max: 1.13334714286\n",
      "Min: -0.866652857143\n",
      "Std: 0.142992538345\n",
      "Different values: 8\n"
     ]
    },
    {
     "data": {
      "image/png": "[encoded data removed]",
      "text/plain": [
       "<matplotlib.figure.Figure at 0x7f4888d78240>"
      ]
     },
     "metadata": {},
     "output_type": "display_data"
    }
   ],
   "source": [
    "npcanal_id = normalize(aux_canal)\n",
    "toHist(npcanal_id, 2, 'Histogram of Canal_ID normalized', 'Canal_ID normalized')"
   ]
  },
  {
   "cell_type": "markdown",
   "metadata": {},
   "source": [
    "### Histograma para Ruta_SAK"
   ]
  },
  {
   "cell_type": "code",
   "execution_count": 33,
   "metadata": {
    "collapsed": false
   },
   "outputs": [
    {
     "data": {
      "image/png": "[encoded data removed]",
      "text/plain": [
       "<matplotlib.figure.Figure at 0x7f8558170240>"
      ]
     },
     "metadata": {},
     "output_type": "display_data"
    }
   ],
   "source": [
    "ruta_sak = dataset['Ruta_SAK']\n",
    "toHist(ruta_sak, 5000, 'Histograma para Ruta_SAK', 'Ruta_SAK')"
   ]
  },
  {
   "cell_type": "code",
   "execution_count": 34,
   "metadata": {
    "collapsed": false
   },
   "outputs": [
    {
     "name": "stdout",
     "output_type": "stream",
     "text": [
      "Different Values: 1027\n",
      " \n",
      "Doing map ...\n",
      "Execution time: 75.13909125328064\n",
      " \n",
      "count    2.000000e+06\n",
      "mean     2.789335e+02\n",
      "std      2.218227e+02\n",
      "min      0.000000e+00\n",
      "25%      8.500000e+01\n",
      "50%      1.650000e+02\n",
      "75%      4.410000e+02\n",
      "max      1.026000e+03\n",
      "Name: Ruta_SAK, dtype: float64\n"
     ]
    }
   ],
   "source": [
    "aux_ruta = mapValues(ruta_sak)"
   ]
  },
  {
   "cell_type": "code",
   "execution_count": 35,
   "metadata": {
    "collapsed": false
   },
   "outputs": [
    {
     "name": "stdout",
     "output_type": "stream",
     "text": [
      "Mean: -4.16093826061e-17\n",
      "Max: 1.45626992398\n",
      "Min: -0.543730076023\n",
      "Std: 0.432402743724\n",
      "Different values: 1027\n"
     ]
    },
    {
     "data": {
      "image/png": "[encoded data removed]",
      "text/plain": [
       "<matplotlib.figure.Figure at 0x7f8553fa5908>"
      ]
     },
     "metadata": {},
     "output_type": "display_data"
    }
   ],
   "source": [
    "npruta_sak = normalize(aux_ruta)\n",
    "toHist(npruta_sak, 2, 'Histogram of Ruta_SAK normalized', 'Ruta_SAK normalized')"
   ]
  },
  {
   "cell_type": "markdown",
   "metadata": {},
   "source": [
    "### Histograma Cliente_ID"
   ]
  },
  {
   "cell_type": "code",
   "execution_count": 36,
   "metadata": {
    "collapsed": false
   },
   "outputs": [
    {
     "data": {
      "image/png": "[encoded data removed]",
      "text/plain": [
       "<matplotlib.figure.Figure at 0x7f85491d8358>"
      ]
     },
     "metadata": {},
     "output_type": "display_data"
    },
    {
     "data": {
      "image/png": "[encoded data removed]",
      "text/plain": [
       "<matplotlib.figure.Figure at 0x7f85491d2630>"
      ]
     },
     "metadata": {},
     "output_type": "display_data"
    },
    {
     "data": {
      "image/png": "[encoded data removed]",
      "text/plain": [
       "<matplotlib.figure.Figure at 0x7f85539101d0>"
      ]
     },
     "metadata": {},
     "output_type": "display_data"
    }
   ],
   "source": [
    "cliente_id = dataset['Cliente_ID']\n",
    "toHist(cliente_id, 100000, 'Histograma Cliente_ID', 'Cliente_ID')\n",
    "toHist(cliente_id, 1000000, 'Histograma Cliente_ID', 'Cliente_ID')\n",
    "toHist(cliente_id, 10000000, 'Histograma Cliente_ID', 'Cliente_ID')"
   ]
  },
  {
   "cell_type": "code",
   "execution_count": 37,
   "metadata": {
    "collapsed": false
   },
   "outputs": [
    {
     "name": "stdout",
     "output_type": "stream",
     "text": [
      "Different Values: 109617\n",
      " \n",
      "Doing map ...\n"
     ]
    },
    {
     "ename": "KeyboardInterrupt",
     "evalue": "",
     "output_type": "error",
     "traceback": [
      "\u001b[1;31m---------------------------------------------------------------------------\u001b[0m",
      "\u001b[1;31mKeyboardInterrupt\u001b[0m                         Traceback (most recent call last)",
      "\u001b[1;32m<ipython-input-37-e8efacc5c072>\u001b[0m in \u001b[0;36m<module>\u001b[1;34m()\u001b[0m\n\u001b[1;32m----> 1\u001b[1;33m \u001b[0maux_cliente\u001b[0m \u001b[1;33m=\u001b[0m \u001b[0mmapValues\u001b[0m\u001b[1;33m(\u001b[0m\u001b[0mcliente_id\u001b[0m\u001b[1;33m)\u001b[0m\u001b[1;33m\u001b[0m\u001b[0m\n\u001b[0m",
      "\u001b[1;32m<ipython-input-5-d93fe869e420>\u001b[0m in \u001b[0;36mmapValues\u001b[1;34m(dataset)\u001b[0m\n\u001b[0;32m     12\u001b[0m     \u001b[0mprint\u001b[0m\u001b[1;33m(\u001b[0m\u001b[1;34m'Doing map ...'\u001b[0m\u001b[1;33m)\u001b[0m\u001b[1;33m\u001b[0m\u001b[0m\n\u001b[0;32m     13\u001b[0m     \u001b[0mstart\u001b[0m \u001b[1;33m=\u001b[0m \u001b[0mtime\u001b[0m\u001b[1;33m.\u001b[0m\u001b[0mtime\u001b[0m\u001b[1;33m(\u001b[0m\u001b[1;33m)\u001b[0m\u001b[1;33m\u001b[0m\u001b[0m\n\u001b[1;32m---> 14\u001b[1;33m     \u001b[0maux\u001b[0m \u001b[1;33m=\u001b[0m \u001b[0mdataset\u001b[0m\u001b[1;33m.\u001b[0m\u001b[0mmap\u001b[0m\u001b[1;33m(\u001b[0m\u001b[0mmap\u001b[0m\u001b[1;33m)\u001b[0m\u001b[1;33m\u001b[0m\u001b[0m\n\u001b[0m\u001b[0;32m     15\u001b[0m     \u001b[0mfinish\u001b[0m \u001b[1;33m=\u001b[0m \u001b[0mtime\u001b[0m\u001b[1;33m.\u001b[0m\u001b[0mtime\u001b[0m\u001b[1;33m(\u001b[0m\u001b[1;33m)\u001b[0m\u001b[1;33m\u001b[0m\u001b[0m\n\u001b[0;32m     16\u001b[0m     \u001b[0mprint\u001b[0m\u001b[1;33m(\u001b[0m\u001b[1;34m'Execution time:'\u001b[0m\u001b[1;33m,\u001b[0m \u001b[1;33m(\u001b[0m\u001b[0mfinish\u001b[0m\u001b[1;33m-\u001b[0m\u001b[0mstart\u001b[0m\u001b[1;33m)\u001b[0m\u001b[1;33m)\u001b[0m\u001b[1;33m\u001b[0m\u001b[0m\n",
      "\u001b[1;32m/home/fabian/anaconda3/envs/tensorflow/lib/python3.4/site-packages/pandas/core/series.py\u001b[0m in \u001b[0;36mmap\u001b[1;34m(self, arg, na_action)\u001b[0m\n\u001b[0;32m   2102\u001b[0m             \u001b[0mnew_values\u001b[0m \u001b[1;33m=\u001b[0m \u001b[0malgos\u001b[0m\u001b[1;33m.\u001b[0m\u001b[0mtake_1d\u001b[0m\u001b[1;33m(\u001b[0m\u001b[0marg\u001b[0m\u001b[1;33m.\u001b[0m\u001b[0m_values\u001b[0m\u001b[1;33m,\u001b[0m \u001b[0mindexer\u001b[0m\u001b[1;33m)\u001b[0m\u001b[1;33m\u001b[0m\u001b[0m\n\u001b[0;32m   2103\u001b[0m         \u001b[1;32melse\u001b[0m\u001b[1;33m:\u001b[0m\u001b[1;33m\u001b[0m\u001b[0m\n\u001b[1;32m-> 2104\u001b[1;33m             \u001b[0mnew_values\u001b[0m \u001b[1;33m=\u001b[0m \u001b[0mmap_f\u001b[0m\u001b[1;33m(\u001b[0m\u001b[0mvalues\u001b[0m\u001b[1;33m,\u001b[0m \u001b[0marg\u001b[0m\u001b[1;33m)\u001b[0m\u001b[1;33m\u001b[0m\u001b[0m\n\u001b[0m\u001b[0;32m   2105\u001b[0m \u001b[1;33m\u001b[0m\u001b[0m\n\u001b[0;32m   2106\u001b[0m         return self._constructor(new_values,\n",
      "\u001b[1;32mpandas/src/inference.pyx\u001b[0m in \u001b[0;36mpandas.lib.map_infer (pandas/lib.c:62658)\u001b[1;34m()\u001b[0m\n",
      "\u001b[1;32m<ipython-input-5-d93fe869e420>\u001b[0m in \u001b[0;36m<lambda>\u001b[1;34m(x)\u001b[0m\n\u001b[0;32m      8\u001b[0m \u001b[1;33m\u001b[0m\u001b[0m\n\u001b[0;32m      9\u001b[0m     \u001b[1;31m# Our map function:\u001b[0m\u001b[1;33m\u001b[0m\u001b[1;33m\u001b[0m\u001b[0m\n\u001b[1;32m---> 10\u001b[1;33m     \u001b[0mmap\u001b[0m \u001b[1;33m=\u001b[0m \u001b[1;32mlambda\u001b[0m \u001b[0mx\u001b[0m\u001b[1;33m:\u001b[0m \u001b[0mvalues_list\u001b[0m\u001b[1;33m.\u001b[0m\u001b[0mindex\u001b[0m\u001b[1;33m(\u001b[0m\u001b[0mx\u001b[0m\u001b[1;33m)\u001b[0m\u001b[1;33m\u001b[0m\u001b[0m\n\u001b[0m\u001b[0;32m     11\u001b[0m \u001b[1;33m\u001b[0m\u001b[0m\n\u001b[0;32m     12\u001b[0m     \u001b[0mprint\u001b[0m\u001b[1;33m(\u001b[0m\u001b[1;34m'Doing map ...'\u001b[0m\u001b[1;33m)\u001b[0m\u001b[1;33m\u001b[0m\u001b[0m\n",
      "\u001b[1;31mKeyboardInterrupt\u001b[0m: "
     ]
    }
   ],
   "source": [
    "aux_cliente = mapValues(cliente_id)"
   ]
  },
  {
   "cell_type": "code",
   "execution_count": null,
   "metadata": {
    "collapsed": true
   },
   "outputs": [],
   "source": [
    "npcliente_id = normalize(aux_cliente)\n",
    "toHist(npcliente_id, 2, 'Histogram of Cliente_ID normalized', 'Cliente_ID normalized')"
   ]
  },
  {
   "cell_type": "markdown",
   "metadata": {},
   "source": [
    "### Histograma Producto_ID"
   ]
  },
  {
   "cell_type": "code",
   "execution_count": 36,
   "metadata": {
    "collapsed": false
   },
   "outputs": [
    {
     "data": {
      "image/png": "[encoded data removed]",
      "text/plain": [
       "<matplotlib.figure.Figure at 0x7fbf20048b00>"
      ]
     },
     "metadata": {},
     "output_type": "display_data"
    }
   ],
   "source": [
    "producto_id = dataset['Producto_ID']\n",
    "toHist(producto_id, 50000, 'Histogram of Producto_ID', 'Producto_ID')"
   ]
  },
  {
   "cell_type": "markdown",
   "metadata": {
    "collapsed": true
   },
   "source": [
    "Función para poder agrupar los valores de un dataFrame de acuerdo a los valores de cierta columna. Nos retorna una tupla con todos los valores distintos de la columna y un diccionario donde la llave es el valor y retorna un dataFrame con todas las filas con ese valor en la columna específica."
   ]
  },
  {
   "cell_type": "code",
   "execution_count": 8,
   "metadata": {
    "collapsed": true
   },
   "outputs": [],
   "source": [
    "# Recieves a dataFrame and a column name (string) and returns a tuple \n",
    "# with the keys and a dict\n",
    "# where the key is de column value and the value is a dataFrame with all\n",
    "# the rows that have that column value.\n",
    "def groupBy(dataFrame, columnName):\n",
    "    different_values = dataFrame[columnName].drop_duplicates()\n",
    "    dictionary = dict()\n",
    "    for value in different_values:\n",
    "        # Select the data that have value in the columnName field.\n",
    "        data = dataFrame.loc[dataFrame[columnName]==value]\n",
    "        dictionary[value] = data\n",
    "    return (different_values, dictionary)"
   ]
  },
  {
   "cell_type": "code",
   "execution_count": 10,
   "metadata": {
    "collapsed": false
   },
   "outputs": [
    {
     "name": "stdout",
     "output_type": "stream",
     "text": [
      "(58794,)\n"
     ]
    }
   ],
   "source": [
    "(key, dct) = groupBy(dataset, 'Cliente_ID')\n",
    "print(key.shape)"
   ]
  },
  {
   "cell_type": "markdown",
   "metadata": {},
   "source": [
    "La función anterior se usaba, ya no."
   ]
  },
  {
   "cell_type": "markdown",
   "metadata": {},
   "source": [
    "# Arreglar inputs\n",
    "\n",
    "Tenemos que normalizar las variables. Se tiene que lograr media cero y ojalá con valores pequeños (por ej: entre -1 y 1 todos los posibles casos). Buscamos también que todos los input tengan covarianza semejante, para así evitar formas de elipses y tener algo más cercano a una esfera.  \n",
    "Se puede usar esta fórmula para la covarianza:\n",
    "$$ C_{i} = \\frac{1}{N} \\Sigma_{n=1}^{N} z_{i}^{n} $$\n",
    "Donde $z_{i}^{n}$ es la componente $i$-ésima del input $n$. Todo esto según [este](http://yann.lecun.com/exdb/publis/pdf/lecun-98b.pdf) paper.  \n",
    "Además nos gustaría que los input no estén correlacionados. Para nuestra ventaja, según [estos](http://blog.nycdatascience.com/student-works/predicting-demand-historical-sales-data-grupo-bimbo-kaggle-competition/) análisis, las únicas cosas que están claramente correlacionadas son venta_uni_hoy y demanda_uni_equil, que es nuestro target."
   ]
  },
  {
   "cell_type": "markdown",
   "metadata": {
    "collapsed": true
   },
   "source": [
    "# Modelamiento con NN"
   ]
  },
  {
   "cell_type": "markdown",
   "metadata": {},
   "source": [
    "A priori, haremos que la red reciba como input las 7 características que entrega el archivo test. Ocuparemos la función de error del programa."
   ]
  },
  {
   "cell_type": "code",
   "execution_count": 7,
   "metadata": {
    "collapsed": true
   },
   "outputs": [],
   "source": [
    "# Lets define our accuracy\n",
    "def accuracy(predictions, real_outputs):\n",
    "    # It's the mean of our cost function across the predictions and results.\n",
    "    return np.sqrt( np.mean( np.square(np.log(predictions+1) - np.log(real_outputs+1)) ))"
   ]
  },
  {
   "cell_type": "code",
   "execution_count": 8,
   "metadata": {
    "collapsed": false
   },
   "outputs": [
    {
     "name": "stdout",
     "output_type": "stream",
     "text": [
      "Train dataset (30000, 6)\n",
      "      outputs (30000, 1)\n",
      "Valid dataset (10000, 6)\n",
      "      outputs (10000, 1)\n",
      "Test  dataset (10000, 6)\n",
      "      outputs (10000, 1)\n"
     ]
    }
   ],
   "source": [
    "# The data is divided (seudo)randomnly in 3 groups: train_dataset, valid_dataset, and test_dataset.\n",
    "\n",
    "train_size = 30000\n",
    "valid_size = 10000\n",
    "test_size = 10000\n",
    "\n",
    "#-------------------------------------------------------\n",
    "# TODO: Normalizar variables. Se tiene que lograr media cero y ojalá con valores pequeños (por ej: entre -1 y 1\n",
    "#       todos los posibles casos). Buscamos también que todos los input tengan covarianza semejante, para así\n",
    "#       evitar formas de elipses y tener algo más cercano a una esfera.\n",
    "#-------------------------------------------------------\n",
    "\n",
    "# 6 feautres + output\n",
    "train = dataset.sample(train_size)\n",
    "valid = dataset.sample(valid_size)\n",
    "test = dataset.sample(test_size)\n",
    "\n",
    "# 6 features only, now they are numpy arrays\n",
    "train_dataset = train.drop('Demanda_uni_equil', axis=1).as_matrix().astype('float32')\n",
    "valid_dataset = valid.drop('Demanda_uni_equil', axis=1).as_matrix().astype('float32')\n",
    "test_dataset = test.drop('Demanda_uni_equil', axis=1).as_matrix().astype('float32')\n",
    "\n",
    "# Outputs\n",
    "train_output = train['Demanda_uni_equil'].as_matrix().astype('float32').reshape((train_size, 1))\n",
    "valid_output = valid['Demanda_uni_equil'].as_matrix().astype('float32').reshape((valid_size, 1))\n",
    "test_output = test['Demanda_uni_equil'].as_matrix().astype('float32').reshape((test_size, 1))\n",
    "\n",
    "print('Train dataset', train_dataset.shape)\n",
    "print('      outputs', train_output.shape)\n",
    "print('Valid dataset', valid_dataset.shape)\n",
    "print('      outputs', valid_output.shape)\n",
    "print('Test  dataset', test_dataset.shape)\n",
    "print('      outputs', test_output.shape)"
   ]
  },
  {
   "cell_type": "markdown",
   "metadata": {},
   "source": [
    "# Nota\n",
    "Los modelos no estan funcionando bien, devuelven puros nan. Al parecer es la función de costo. La cambié y funcionó (devolvió números).  \n",
    "IDEAS:\n",
    "* Mala elección de la función loss.\n",
    "* Los input son demasiado grandes, hay overflow. Esto porque a veces muestra cuanto es el valor del loss y son número gigantescos. SOL: Encodear las variables muy grandes."
   ]
  },
  {
   "cell_type": "code",
   "execution_count": 51,
   "metadata": {
    "collapsed": false
   },
   "outputs": [],
   "source": [
    "# The logistic model\n",
    "\n",
    "# With gradient descent training, even this much data is prohibitive.\n",
    "# Subset the training data for faster turnaround.\n",
    "train_subset = 10000\n",
    "\n",
    "features = 6\n",
    "\n",
    "graph = tf.Graph()\n",
    "with graph.as_default():\n",
    "\n",
    "    # Input data.\n",
    "    # Load the training, validation and test data into constants that are\n",
    "    # attached to the graph.\n",
    "    tf_train_dataset = tf.constant(train_dataset[:train_subset, :])\n",
    "    tf_train_output = tf.constant(train_output[:train_subset])\n",
    "    tf_valid_dataset = tf.constant(valid_dataset)\n",
    "    tf_test_dataset = tf.constant(test_dataset)\n",
    "  \n",
    "    # Variables.\n",
    "    # These are the parameters that we are going to be training. The weight\n",
    "    # matrix will be initialized using random valued following a (truncated)\n",
    "    # normal distribution. The biases get initialized to zero.\n",
    "    weights = tf.Variable(\n",
    "      tf.truncated_normal([features, 1]))\n",
    "    biases = tf.Variable(tf.zeros([1]))\n",
    "  \n",
    "    # Training computation.\n",
    "    \n",
    "    output = tf.matmul(tf_train_dataset, weights) + biases\n",
    "    loss = tf.nn.l2_loss( output - tf_train_output)\n",
    "    #loss = tf.reduce_mean(tf.nn.softmax_cross_entropy_with_logits(output, tf_train_output))\n",
    "    #loss = tf.sqrt( tf.reduce_mean( tf.square(tf.log(output+1) - tf.log(tf_train_output+1)) ))\n",
    "    #loss = tf.reduce_mean( tf.log(output+1) - tf.log(tf_train_output+1) )\n",
    "\n",
    "    # Optimizer.\n",
    "    # We are going to find the minimum of this loss using gradient descent.\n",
    "    optimizer = tf.train.GradientDescentOptimizer(0.5).minimize(loss)\n",
    "  \n",
    "    # Predictions for the training, validation, and test data.\n",
    "    # These are not part of training, but merely here so that we can report\n",
    "    # accuracy figures as we train.\n",
    "    train_prediction = output\n",
    "    valid_prediction = tf.matmul(tf_valid_dataset, weights) + biases\n",
    "    test_prediction = tf.matmul(tf_test_dataset, weights) + biases"
   ]
  },
  {
   "cell_type": "code",
   "execution_count": 52,
   "metadata": {
    "collapsed": false
   },
   "outputs": [
    {
     "name": "stdout",
     "output_type": "stream",
     "text": [
      "Initialized\n",
      "------------------\n",
      "Loss at step 0: 1917697797390336.000000\n",
      "Training loss: 10.7914\n",
      "Validation loss: nan\n",
      "------------------\n",
      "Loss at step 100: nan\n",
      "Training loss: nan\n",
      "Validation loss: nan\n",
      "------------------\n",
      "Loss at step 200: nan\n",
      "Training loss: nan\n",
      "Validation loss: nan\n",
      "------------------\n",
      "Loss at step 300: nan\n",
      "Training loss: nan\n",
      "Validation loss: nan\n",
      "------------------\n",
      "Loss at step 400: nan\n",
      "Training loss: nan\n",
      "Validation loss: nan\n",
      "------------------\n",
      "Loss at step 500: nan\n",
      "Training loss: nan\n",
      "Validation loss: nan\n",
      "------------------\n",
      "Loss at step 600: nan\n",
      "Training loss: nan\n",
      "Validation loss: nan\n",
      "------------------\n",
      "Loss at step 700: nan\n",
      "Training loss: nan\n",
      "Validation loss: nan\n",
      "------------------\n",
      "Loss at step 800: nan\n",
      "Training loss: nan\n",
      "Validation loss: nan\n",
      "Test loss: nan\n"
     ]
    }
   ],
   "source": [
    "# Let's run it:\n",
    "\n",
    "num_steps = 801\n",
    "\n",
    "with tf.Session(graph=graph) as session:\n",
    "    # This is a one-time operation which ensures the parameters get initialized as\n",
    "    # we described in the graph: random weights for the matrix, zeros for the\n",
    "    # biases. \n",
    "    tf.initialize_all_variables().run()\n",
    "    print('Initialized')\n",
    "    \n",
    "    for step in range(num_steps):\n",
    "        # Run the computations. We tell .run() that we want to run the optimizer,\n",
    "        # and get the loss value and the training predictions returned as numpy\n",
    "        # arrays.\n",
    "        _, l, predictions = session.run([optimizer, loss, train_prediction])\n",
    "        \n",
    "        if (step % 100 == 0):\n",
    "            print('------------------')\n",
    "            print('Loss at step %d: %f' % (step, l))\n",
    "            print('Training loss:', accuracy(predictions, train_output[:train_subset, :]))\n",
    "            # Calling .eval() on valid_prediction is basically like calling run(), but\n",
    "            # just to get that one numpy array. Note that it recomputes all its graph\n",
    "            # dependencies.\n",
    "            print('Validation loss:', accuracy(\n",
    "                valid_prediction.eval(), valid_output))\n",
    "    print('Test loss:', accuracy(test_prediction.eval(), test_output))"
   ]
  },
  {
   "cell_type": "markdown",
   "metadata": {},
   "source": [
    "# Modelo que no logro correr sin nans"
   ]
  },
  {
   "cell_type": "code",
   "execution_count": 25,
   "metadata": {
    "collapsed": false
   },
   "outputs": [],
   "source": [
    "# Model deep neural network with stochastic gradient descent for speed.\n",
    "\n",
    "# How many features we want to use\n",
    "features = 6\n",
    "# Size of the placeholder in the train input data.\n",
    "batch_size = 512\n",
    "hidden_nodes = 1024\n",
    "beta = 0.001\n",
    "\n",
    "graph = tf.Graph()\n",
    "\n",
    "with graph.as_default():\n",
    "    \n",
    "    # Input data. For the training data, we use a placeholder that will be fed\n",
    "    # at run time with a training minibatch.\n",
    "    tf_train_dataset = tf.placeholder(tf.float32,\n",
    "                                    shape=(batch_size, features))\n",
    "    # We only have one output, the prediction.\n",
    "    tf_train_outputs = tf.placeholder(tf.float32, shape=(batch_size, 1))\n",
    "    # The valid dataset and the test dataset remain as constants.\n",
    "    tf_valid_dataset = tf.constant(valid_dataset)\n",
    "    tf_test_dataset = tf.constant(test_dataset)\n",
    "    \n",
    "    #------------\n",
    "    # Variables:\n",
    "    #------------\n",
    "    \n",
    "    # First layer\n",
    "    weights1 = tf.Variable(\n",
    "        tf.truncated_normal([features, hidden_nodes]))\n",
    "    biases1 = tf.Variable(tf.zeros([hidden_nodes]))\n",
    "    \n",
    "    # Hidden layer\n",
    "    weights2 = tf.Variable(\n",
    "        tf.truncated_normal([hidden_nodes, 1]))\n",
    "    biases2 = tf.Variable(tf.zeros([1]))\n",
    "    \n",
    "    #----------------------\n",
    "    # Training computation.\n",
    "    #----------------------\n",
    "    \n",
    "    # Outputs after the first layer:\n",
    "    # We are using RELU, thats the non linearity in our model\n",
    "    outputs1 = tf.nn.relu( tf.matmul(tf_train_dataset, weights1) + biases1 )\n",
    "    \n",
    "    # Output after the second layer:\n",
    "    output = tf.matmul(outputs1, weights2) + biases2\n",
    "    \n",
    "    #-------\n",
    "    # Loss\n",
    "    #-------\n",
    "    loss = tf.reduce_mean(tf.nn.softmax_cross_entropy_with_logits(output, tf_train_outputs))\n",
    "    #loss = tf.sqrt( tf.reduce_mean( tf.square(tf.log(output+1) - tf.log(tf_train_outputs+1)) )) #+beta*tf.l2_loss(weights1) + tf.nn.l2_loss(weights2)\n",
    "    \n",
    "    #-----------\n",
    "    # Optimizer\n",
    "    #-----------\n",
    "  \n",
    "    optimizer = tf.train.GradientDescentOptimizer(0.5).minimize(loss)\n",
    "    \n",
    "    # Predictions for the training, validation, and test data.\n",
    "    train_prediction = output\n",
    "    valid_prediction = tf.matmul(\n",
    "        tf.nn.relu( tf.matmul(tf_valid_dataset, weights1) + biases1 ) , weights2) + biases2\n",
    "    test_prediction = tf.matmul(\n",
    "        tf.nn.relu( tf.matmul(tf_test_dataset, weights1) + biases1 ) , weights2) + biases2"
   ]
  },
  {
   "cell_type": "code",
   "execution_count": 26,
   "metadata": {
    "collapsed": false
   },
   "outputs": [
    {
     "name": "stdout",
     "output_type": "stream",
     "text": [
      "Initialized\n",
      "Minibatch loss at step 0: 0.000000\n",
      "Minibatch accuracy: nan\n",
      "Validation accuracy: 46.8299\n",
      "Minibatch loss at step 100: nan\n",
      "Minibatch accuracy: nan\n",
      "Validation accuracy: nan\n",
      "Minibatch loss at step 200: nan\n",
      "Minibatch accuracy: nan\n",
      "Validation accuracy: nan\n",
      "Minibatch loss at step 300: nan\n",
      "Minibatch accuracy: nan\n",
      "Validation accuracy: nan\n",
      "Minibatch loss at step 400: nan\n",
      "Minibatch accuracy: nan\n",
      "Validation accuracy: nan\n",
      "Minibatch loss at step 500: nan\n",
      "Minibatch accuracy: nan\n",
      "Validation accuracy: nan\n",
      "Minibatch loss at step 600: nan\n",
      "Minibatch accuracy: nan\n",
      "Validation accuracy: nan\n",
      "Minibatch loss at step 700: nan\n",
      "Minibatch accuracy: nan\n",
      "Validation accuracy: nan\n",
      "Minibatch loss at step 800: nan\n",
      "Minibatch accuracy: nan\n",
      "Validation accuracy: nan\n"
     ]
    },
    {
     "ename": "KeyboardInterrupt",
     "evalue": "",
     "output_type": "error",
     "traceback": [
      "\u001b[1;31m---------------------------------------------------------------------------\u001b[0m",
      "\u001b[1;31mKeyboardInterrupt\u001b[0m                         Traceback (most recent call last)",
      "\u001b[1;32m<ipython-input-26-5917215d3a94>\u001b[0m in \u001b[0;36m<module>\u001b[1;34m()\u001b[0m\n\u001b[0;32m     18\u001b[0m         \u001b[0mfeed_dict\u001b[0m \u001b[1;33m=\u001b[0m \u001b[1;33m{\u001b[0m\u001b[0mtf_train_dataset\u001b[0m \u001b[1;33m:\u001b[0m \u001b[0mbatch_data\u001b[0m\u001b[1;33m,\u001b[0m \u001b[0mtf_train_outputs\u001b[0m \u001b[1;33m:\u001b[0m \u001b[0mbatch_outputs\u001b[0m\u001b[1;33m}\u001b[0m\u001b[1;33m\u001b[0m\u001b[0m\n\u001b[0;32m     19\u001b[0m         _, l, predictions = session.run(\n\u001b[1;32m---> 20\u001b[1;33m           [optimizer, loss, train_prediction], feed_dict=feed_dict)\n\u001b[0m\u001b[0;32m     21\u001b[0m         \u001b[1;32mif\u001b[0m \u001b[1;33m(\u001b[0m\u001b[0mstep\u001b[0m \u001b[1;33m%\u001b[0m \u001b[1;36m100\u001b[0m \u001b[1;33m==\u001b[0m \u001b[1;36m0\u001b[0m\u001b[1;33m)\u001b[0m\u001b[1;33m:\u001b[0m\u001b[1;33m\u001b[0m\u001b[0m\n\u001b[0;32m     22\u001b[0m             \u001b[0mprint\u001b[0m\u001b[1;33m(\u001b[0m\u001b[1;34m\"Minibatch loss at step %d: %f\"\u001b[0m \u001b[1;33m%\u001b[0m \u001b[1;33m(\u001b[0m\u001b[0mstep\u001b[0m\u001b[1;33m,\u001b[0m \u001b[0ml\u001b[0m\u001b[1;33m)\u001b[0m\u001b[1;33m)\u001b[0m\u001b[1;33m\u001b[0m\u001b[0m\n",
      "\u001b[1;32m/home/fabian/anaconda3/envs/tensorflow/lib/python3.4/site-packages/tensorflow/python/client/session.py\u001b[0m in \u001b[0;36mrun\u001b[1;34m(self, fetches, feed_dict, options, run_metadata)\u001b[0m\n\u001b[0;32m    338\u001b[0m     \u001b[1;32mtry\u001b[0m\u001b[1;33m:\u001b[0m\u001b[1;33m\u001b[0m\u001b[0m\n\u001b[0;32m    339\u001b[0m       result = self._run(None, fetches, feed_dict, options_ptr,\n\u001b[1;32m--> 340\u001b[1;33m                          run_metadata_ptr)\n\u001b[0m\u001b[0;32m    341\u001b[0m       \u001b[1;32mif\u001b[0m \u001b[0mrun_metadata\u001b[0m\u001b[1;33m:\u001b[0m\u001b[1;33m\u001b[0m\u001b[0m\n\u001b[0;32m    342\u001b[0m         \u001b[0mproto_data\u001b[0m \u001b[1;33m=\u001b[0m \u001b[0mtf_session\u001b[0m\u001b[1;33m.\u001b[0m\u001b[0mTF_GetBuffer\u001b[0m\u001b[1;33m(\u001b[0m\u001b[0mrun_metadata_ptr\u001b[0m\u001b[1;33m)\u001b[0m\u001b[1;33m\u001b[0m\u001b[0m\n",
      "\u001b[1;32m/home/fabian/anaconda3/envs/tensorflow/lib/python3.4/site-packages/tensorflow/python/client/session.py\u001b[0m in \u001b[0;36m_run\u001b[1;34m(self, handle, fetches, feed_dict, options, run_metadata)\u001b[0m\n\u001b[0;32m    562\u001b[0m     \u001b[1;32mtry\u001b[0m\u001b[1;33m:\u001b[0m\u001b[1;33m\u001b[0m\u001b[0m\n\u001b[0;32m    563\u001b[0m       results = self._do_run(handle, target_list, unique_fetches,\n\u001b[1;32m--> 564\u001b[1;33m                              feed_dict_string, options, run_metadata)\n\u001b[0m\u001b[0;32m    565\u001b[0m     \u001b[1;32mfinally\u001b[0m\u001b[1;33m:\u001b[0m\u001b[1;33m\u001b[0m\u001b[0m\n\u001b[0;32m    566\u001b[0m       \u001b[1;31m# The movers are no longer used. Delete them.\u001b[0m\u001b[1;33m\u001b[0m\u001b[1;33m\u001b[0m\u001b[0m\n",
      "\u001b[1;32m/home/fabian/anaconda3/envs/tensorflow/lib/python3.4/site-packages/tensorflow/python/client/session.py\u001b[0m in \u001b[0;36m_do_run\u001b[1;34m(self, handle, target_list, fetch_list, feed_dict, options, run_metadata)\u001b[0m\n\u001b[0;32m    635\u001b[0m     \u001b[1;32mif\u001b[0m \u001b[0mhandle\u001b[0m \u001b[1;32mis\u001b[0m \u001b[1;32mNone\u001b[0m\u001b[1;33m:\u001b[0m\u001b[1;33m\u001b[0m\u001b[0m\n\u001b[0;32m    636\u001b[0m       return self._do_call(_run_fn, self._session, feed_dict, fetch_list,\n\u001b[1;32m--> 637\u001b[1;33m                            target_list, options, run_metadata)\n\u001b[0m\u001b[0;32m    638\u001b[0m     \u001b[1;32melse\u001b[0m\u001b[1;33m:\u001b[0m\u001b[1;33m\u001b[0m\u001b[0m\n\u001b[0;32m    639\u001b[0m       return self._do_call(_prun_fn, self._session, handle, feed_dict,\n",
      "\u001b[1;32m/home/fabian/anaconda3/envs/tensorflow/lib/python3.4/site-packages/tensorflow/python/client/session.py\u001b[0m in \u001b[0;36m_do_call\u001b[1;34m(self, fn, *args)\u001b[0m\n\u001b[0;32m    642\u001b[0m   \u001b[1;32mdef\u001b[0m \u001b[0m_do_call\u001b[0m\u001b[1;33m(\u001b[0m\u001b[0mself\u001b[0m\u001b[1;33m,\u001b[0m \u001b[0mfn\u001b[0m\u001b[1;33m,\u001b[0m \u001b[1;33m*\u001b[0m\u001b[0margs\u001b[0m\u001b[1;33m)\u001b[0m\u001b[1;33m:\u001b[0m\u001b[1;33m\u001b[0m\u001b[0m\n\u001b[0;32m    643\u001b[0m     \u001b[1;32mtry\u001b[0m\u001b[1;33m:\u001b[0m\u001b[1;33m\u001b[0m\u001b[0m\n\u001b[1;32m--> 644\u001b[1;33m       \u001b[1;32mreturn\u001b[0m \u001b[0mfn\u001b[0m\u001b[1;33m(\u001b[0m\u001b[1;33m*\u001b[0m\u001b[0margs\u001b[0m\u001b[1;33m)\u001b[0m\u001b[1;33m\u001b[0m\u001b[0m\n\u001b[0m\u001b[0;32m    645\u001b[0m     \u001b[1;32mexcept\u001b[0m \u001b[0mtf_session\u001b[0m\u001b[1;33m.\u001b[0m\u001b[0mStatusNotOK\u001b[0m \u001b[1;32mas\u001b[0m \u001b[0me\u001b[0m\u001b[1;33m:\u001b[0m\u001b[1;33m\u001b[0m\u001b[0m\n\u001b[0;32m    646\u001b[0m       \u001b[0merror_message\u001b[0m \u001b[1;33m=\u001b[0m \u001b[0mcompat\u001b[0m\u001b[1;33m.\u001b[0m\u001b[0mas_text\u001b[0m\u001b[1;33m(\u001b[0m\u001b[0me\u001b[0m\u001b[1;33m.\u001b[0m\u001b[0merror_message\u001b[0m\u001b[1;33m)\u001b[0m\u001b[1;33m\u001b[0m\u001b[0m\n",
      "\u001b[1;32m/home/fabian/anaconda3/envs/tensorflow/lib/python3.4/site-packages/tensorflow/python/client/session.py\u001b[0m in \u001b[0;36m_run_fn\u001b[1;34m(session, feed_dict, fetch_list, target_list, options, run_metadata)\u001b[0m\n\u001b[0;32m    626\u001b[0m       \u001b[1;32melse\u001b[0m\u001b[1;33m:\u001b[0m\u001b[1;33m\u001b[0m\u001b[0m\n\u001b[0;32m    627\u001b[0m         return tf_session.TF_Run(\n\u001b[1;32m--> 628\u001b[1;33m             session, None, feed_dict, fetch_list, target_list, None)\n\u001b[0m\u001b[0;32m    629\u001b[0m \u001b[1;33m\u001b[0m\u001b[0m\n\u001b[0;32m    630\u001b[0m     \u001b[1;32mdef\u001b[0m \u001b[0m_prun_fn\u001b[0m\u001b[1;33m(\u001b[0m\u001b[0msession\u001b[0m\u001b[1;33m,\u001b[0m \u001b[0mhandle\u001b[0m\u001b[1;33m,\u001b[0m \u001b[0mfeed_dict\u001b[0m\u001b[1;33m,\u001b[0m \u001b[0mfetch_list\u001b[0m\u001b[1;33m)\u001b[0m\u001b[1;33m:\u001b[0m\u001b[1;33m\u001b[0m\u001b[0m\n",
      "\u001b[1;31mKeyboardInterrupt\u001b[0m: "
     ]
    }
   ],
   "source": [
    "# Run the model\n",
    "\n",
    "num_steps = 3001\n",
    "\n",
    "with tf.Session(graph=graph) as session:\n",
    "    tf.initialize_all_variables().run()\n",
    "    print(\"Initialized\")\n",
    "    for step in range(num_steps):\n",
    "        # Pick an offset within the training data, which has been randomized.\n",
    "        # Note: we could use better randomization across epochs.\n",
    "        offset = (step * batch_size) % (train_output.shape[0] - batch_size)\n",
    "        # Generate a minibatch.\n",
    "        batch_data = train_dataset[offset:(offset + batch_size), :]\n",
    "        batch_outputs = train_output[offset:(offset + batch_size),:]\n",
    "        # Prepare a dictionary telling the session where to feed the minibatch.\n",
    "        # The key of the dictionary is the placeholder node of the graph to be fed,\n",
    "        # and the value is the numpy array to feed to it.\n",
    "        feed_dict = {tf_train_dataset : batch_data, tf_train_outputs : batch_outputs}\n",
    "        _, l, predictions = session.run(\n",
    "          [optimizer, loss, train_prediction], feed_dict=feed_dict)\n",
    "        if (step % 100 == 0):\n",
    "            print(\"Minibatch loss at step %d: %f\" % (step, l))\n",
    "            print('Minibatch accuracy:', accuracy(predictions, batch_outputs))\n",
    "            print('Validation accuracy:', accuracy(\n",
    "                valid_prediction.eval(), valid_output))\n",
    "    print('Test accuracy:', accuracy(test_prediction.eval(), test_output))"
   ]
  },
  {
   "cell_type": "code",
   "execution_count": null,
   "metadata": {
    "collapsed": true
   },
   "outputs": [],
   "source": []
  },
  {
   "cell_type": "code",
   "execution_count": null,
   "metadata": {
    "collapsed": true
   },
   "outputs": [],
   "source": []
  }
 ],
 "metadata": {
  "kernelspec": {
   "display_name": "Python 3",
   "language": "python",
   "name": "python3"
  },
  "language_info": {
   "codemirror_mode": {
    "name": "ipython",
    "version": 3
   },
   "file_extension": ".py",
   "mimetype": "text/x-python",
   "name": "python",
   "nbconvert_exporter": "python",
   "pygments_lexer": "ipython3",
   "version": "3.4.5"
  }
 },
 "nbformat": 4,
 "nbformat_minor": 0
}
